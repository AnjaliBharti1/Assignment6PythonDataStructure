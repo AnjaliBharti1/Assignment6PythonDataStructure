{
  "nbformat": 4,
  "nbformat_minor": 0,
  "metadata": {
    "colab": {
      "provenance": []
    },
    "kernelspec": {
      "name": "python3",
      "display_name": "Python 3"
    },
    "language_info": {
      "name": "python"
    }
  },
  "cells": [
    {
      "cell_type": "code",
      "execution_count": null,
      "metadata": {
        "id": "9Fjvy7H4Tnw8"
      },
      "outputs": [],
      "source": []
    },
    {
      "cell_type": "markdown",
      "source": [
        "**1. Why might you choose a deque from the collections module to implement a queue instead of using a regular Python list?**"
      ],
      "metadata": {
        "id": "aWRciW2oT7z5"
      }
    },
    {
      "cell_type": "markdown",
      "source": [
        "Ans:-The deque object from collections is a list-like object that supports fast append and pops from both sides.\n",
        "it was specifically designed to be more efficient than lists when used as queues and stacks."
      ],
      "metadata": {
        "id": "k4H9jI5KUDrQ"
      }
    },
    {
      "cell_type": "markdown",
      "source": [
        "**2. Can you explain a real-world scenario where using a stack would be a more practical choice than a list for data storage and retrieval?**"
      ],
      "metadata": {
        "id": "GhOK66gnUY4J"
      }
    },
    {
      "cell_type": "markdown",
      "source": [
        "Ans:-piling up of chairs one above the other\", will follow the order of last in first out, as the chair that is put at last, will be taken out first. So, it is similar to the Stack."
      ],
      "metadata": {
        "id": "amHlJkcXUkP6"
      }
    },
    {
      "cell_type": "markdown",
      "source": [
        "**3. What is the primary advantage of using sets in Python, and in what type of problem-solving scenarios are they most useful?**"
      ],
      "metadata": {
        "id": "jvuMOhFvUxkr"
      }
    },
    {
      "cell_type": "markdown",
      "source": [
        "ANS:-sets highly useful to efficiently remove duplicate values from a list or tuple and to perform common math operations like unions and intersections."
      ],
      "metadata": {
        "id": "8VMKNMK4U4t0"
      }
    },
    {
      "cell_type": "markdown",
      "source": [
        "**4. When might you choose to use an array instead of a list for storing numerical data in Python? What benefits do arrays offer in this context?**"
      ],
      "metadata": {
        "id": "DH-H3J7YVBgA"
      }
    },
    {
      "cell_type": "markdown",
      "source": [
        "ANS:-when we need to process data dynamically. Python arrays are faster than lists because they use less memory. An array is a concept that stores different items of the same type together as one and makes calculating the stance of each element easier by adding an offset to the base number."
      ],
      "metadata": {
        "id": "vpqAuPqiVaoi"
      }
    },
    {
      "cell_type": "markdown",
      "source": [
        "**5. In Python, what's the primary difference between dictionaries and lists, and how does this difference impact their use cases in programming?**"
      ],
      "metadata": {
        "id": "nPsAOLdZVlFN"
      }
    },
    {
      "cell_type": "markdown",
      "source": [
        "ANS:-A list is an ordered collection of items, whereas a dictionary is an unordered data collection in a key: value pair.\n",
        "Elements from the list can be accessed using the index,while the elements of the dictionary can be accessed using keys."
      ],
      "metadata": {
        "id": "GvfOJ7I-VupV"
      }
    }
  ]
}